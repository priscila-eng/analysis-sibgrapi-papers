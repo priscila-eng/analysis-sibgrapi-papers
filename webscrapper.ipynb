{
 "cells": [
  {
   "cell_type": "code",
   "execution_count": 36,
   "id": "922096a0-bb56-4bce-8240-dd1dc87e6105",
   "metadata": {},
   "outputs": [],
   "source": [
    "import requests\n",
    "from bs4 import BeautifulSoup, Comment\n",
    "from pathlib import Path\n",
    "import os\n",
    "import os.path\n",
    "from os import path"
   ]
  },
  {
   "cell_type": "code",
   "execution_count": 4,
   "id": "768376e5-3536-4112-bdf6-1eccd9358794",
   "metadata": {},
   "outputs": [],
   "source": [
    "url = 'http://sibgrapi.sid.inpe.br/col/sid.inpe.br/banon/2001/03.30.15.38.24/doc/mirror.cgi/About?languagebutton=en&languagerep1=sid.inpe.br/banon/2001/05.04.15.05&languagerep2=dpi.inpe.br/banon/1999/05.03.22.11&firstlanguagerep=sid.inpe.br/banon/2001/05.04.15.05&submissionformrep=dpi.inpe.br/banon-pc2@80/2006/08.30.19.42&returnbutton=yes'\n",
    "req_main_page = requests.get(url)"
   ]
  },
  {
   "cell_type": "code",
   "execution_count": 5,
   "id": "2b0e8e74-3a34-456d-ac46-eca464a99cb5",
   "metadata": {},
   "outputs": [],
   "source": [
    "main_page = BeautifulSoup(req_main_page.content, 'html.parser')\n",
    "table = main_page.find_all('table')"
   ]
  },
  {
   "cell_type": "code",
   "execution_count": 6,
   "id": "17e5d35a-3df1-44b9-be3c-30c4cc05a737",
   "metadata": {},
   "outputs": [],
   "source": [
    "def getYearConf(string):\n",
    "    counter = 0\n",
    "    year = \"\"\n",
    "    for char in string:\n",
    "        if char.isdigit():\n",
    "            year += char\n",
    "            counter += 1\n",
    "        if(counter == 4):\n",
    "            return year"
   ]
  },
  {
   "cell_type": "code",
   "execution_count": 7,
   "id": "ea859d68-a5ce-4af0-bd7e-1a6bf3ecbb7a",
   "metadata": {},
   "outputs": [],
   "source": [
    "years = []\n",
    "all_links = []\n",
    "for tag_a in table[0].find_all('a'):\n",
    "    year = getYearConf(tag_a.text)\n",
    "    link = tag_a.get('href')\n",
    "    dois_pontos = \":\"\n",
    "    format = dois_pontos + str(year) + dois_pontos\n",
    "    if year not in years and year != None:\n",
    "        years.append(year)\n",
    "        all_links.append(link)\n",
    "    elif year in years and year != None:\n",
    "        if year == '2021':\n",
    "            length = len(all_links)\n",
    "            all_links[length - 1] = link"
   ]
  },
  {
   "cell_type": "code",
   "execution_count": 8,
   "id": "eca0aecf-ab89-4188-9767-cee5bfddde2a",
   "metadata": {},
   "outputs": [],
   "source": [
    "confs = []\n",
    "for i in range(len(years)):\n",
    "    lista = [int(years[i]), all_links[i]]\n",
    "    confs.append(lista)"
   ]
  },
  {
   "cell_type": "code",
   "execution_count": 9,
   "id": "d5653475-707e-440c-a90c-184aff8b7410",
   "metadata": {},
   "outputs": [],
   "source": [
    "main_pages_papers_confs = []\n",
    "for conf in confs:\n",
    "    req_main_page_paper = requests.get(conf[1])\n",
    "    main_page_paper = BeautifulSoup(req_main_page_paper.content, 'html.parser')\n",
    "    frame = main_page_paper.find_all('frame')\n",
    "    yearLinks = [conf[0], frame[1].get('src')]\n",
    "    main_pages_papers_confs.append(yearLinks)"
   ]
  },
  {
   "cell_type": "code",
   "execution_count": 10,
   "id": "84d3f338-d473-4a42-a6b4-c6eb01dc6e55",
   "metadata": {},
   "outputs": [],
   "source": [
    "def getTagsAfterComments(link):\n",
    "    req_main_page_paper = requests.get(link)\n",
    "    main_page_paper = BeautifulSoup(req_main_page_paper.content, 'html.parser')\n",
    "    separator = \"aaaaaaaaaaaa\"\n",
    "    comment = main_page_paper.find(string=lambda text: isinstance(text, Comment) and separator in text)\n",
    "    if comment:\n",
    "        next_element = comment.find_next_siblings()\n",
    "        if next_element:\n",
    "            return next_element\n",
    "        else:\n",
    "            return None\n",
    "                    "
   ]
  },
  {
   "cell_type": "code",
   "execution_count": 11,
   "id": "90ef908a",
   "metadata": {},
   "outputs": [],
   "source": [
    "def getQtPapersCategory(html):\n",
    "    countersCategory = {}\n",
    "    key = \"\"\n",
    "    counterPapers = 0\n",
    "    for tag in html:\n",
    "        if tag.get('class') and \"titleAuthorTABLE\" in tag.get('class'):\n",
    "            counterPapers = counterPapers + 1\n",
    "        if tag.name == \"b\":\n",
    "            if counterPapers == 0:\n",
    "                key = tag.text\n",
    "            countersCategory[key] = counterPapers\n",
    "            counterPapers = 0\n",
    "            key = tag.text\n",
    "    \n",
    "    countersCategory[key] = counterPapers\n",
    "    return countersCategory"
   ]
  },
  {
   "cell_type": "code",
   "execution_count": 39,
   "id": "2a5558ba",
   "metadata": {},
   "outputs": [],
   "source": [
    "def getLinksPapers(qt, html, ano):\n",
    "    links_papers = {}\n",
    "    counter = 0\n",
    "    all_links = []\n",
    "    key_html = \"\"\n",
    "    for tag in html:\n",
    "        if tag.get('class') and \"titleAuthorTABLE\" in tag.get('class'):\n",
    "            all_links.append(tag.find('a').get('href'))\n",
    "            counter = counter + 1\n",
    "        if tag.name == \"b\":\n",
    "            if counter == 0:\n",
    "                key_html = tag.text\n",
    "            if qt[key_html] == counter:\n",
    "                links_papers[key_html] = all_links\n",
    "                all_links = []\n",
    "                counter = 0\n",
    "            key_html = tag.text\n",
    "        \n",
    "    links_papers[key_html] = all_links\n",
    "    for key, links in links_papers.items():\n",
    "        for url in links:\n",
    "            url = url.split(\"?\")\n",
    "            url = url[0][5:]\n",
    "            url_formatted = \"http://sibgrapi.sid.inpe.br/col/\" + url + \"/doc/thisInformationItemHomePage.html\"\n",
    "            req_paper_page = requests.get(url_formatted)\n",
    "            paper_page = BeautifulSoup(req_paper_page.content, 'html.parser')\n",
    "            frames = paper_page.find_all(\"frame\")\n",
    "            req_paper_PDF = requests.get(frames[1].get('src'))\n",
    "            if \"@80\" in url:\n",
    "                filename_formatted = str(ano) + \"/\" + key + \"-\" + url[29:39] + \".pdf\"\n",
    "            else:\n",
    "                filename_formatted = str(ano) + \"/\" + key + \"-\" + url[26:37] + \".pdf\"\n",
    "            filename = Path(filename_formatted)\n",
    "            filename.write_bytes(req_paper_PDF.content)\n",
    "        \n"
   ]
  },
  {
   "cell_type": "code",
   "execution_count": 40,
   "id": "b97b0e86-7bf6-462a-abdc-b64652e8b5bf",
   "metadata": {},
   "outputs": [
    {
     "name": "stdout",
     "output_type": "stream",
     "text": [
      "Inicia processamento do ano  2022\n",
      "--------------------------------------------------------------------------------------------------------------------------------------------------------------------------------------\n",
      "Inicia processamento do ano  2021\n",
      "--------------------------------------------------------------------------------------------------------------------------------------------------------------------------------------\n",
      "Inicia processamento do ano  2020\n",
      "--------------------------------------------------------------------------------------------------------------------------------------------------------------------------------------\n",
      "Inicia processamento do ano  2019\n",
      "--------------------------------------------------------------------------------------------------------------------------------------------------------------------------------------\n",
      "Inicia processamento do ano  2018\n",
      "--------------------------------------------------------------------------------------------------------------------------------------------------------------------------------------\n",
      "Inicia processamento do ano  2017\n",
      "--------------------------------------------------------------------------------------------------------------------------------------------------------------------------------------\n",
      "Inicia processamento do ano  2016\n",
      "--------------------------------------------------------------------------------------------------------------------------------------------------------------------------------------\n",
      "Inicia processamento do ano  2015\n",
      "--------------------------------------------------------------------------------------------------------------------------------------------------------------------------------------\n",
      "Inicia processamento do ano  2014\n",
      "--------------------------------------------------------------------------------------------------------------------------------------------------------------------------------------\n",
      "No links to paper\n",
      "Inicia processamento do ano  2013\n",
      "--------------------------------------------------------------------------------------------------------------------------------------------------------------------------------------\n",
      "Inicia processamento do ano  2012\n",
      "--------------------------------------------------------------------------------------------------------------------------------------------------------------------------------------\n",
      "Inicia processamento do ano  2011\n",
      "--------------------------------------------------------------------------------------------------------------------------------------------------------------------------------------\n",
      "Inicia processamento do ano  2010\n",
      "--------------------------------------------------------------------------------------------------------------------------------------------------------------------------------------\n",
      "Inicia processamento do ano  2009\n",
      "--------------------------------------------------------------------------------------------------------------------------------------------------------------------------------------\n",
      "Inicia processamento do ano  2008\n",
      "--------------------------------------------------------------------------------------------------------------------------------------------------------------------------------------\n",
      "Inicia processamento do ano  2007\n",
      "--------------------------------------------------------------------------------------------------------------------------------------------------------------------------------------\n",
      "Inicia processamento do ano  2006\n",
      "--------------------------------------------------------------------------------------------------------------------------------------------------------------------------------------\n",
      "Inicia processamento do ano  2005\n",
      "--------------------------------------------------------------------------------------------------------------------------------------------------------------------------------------\n"
     ]
    },
    {
     "ename": "IndexError",
     "evalue": "list index out of range",
     "output_type": "error",
     "traceback": [
      "\u001b[0;31m---------------------------------------------------------------------------\u001b[0m",
      "\u001b[0;31mIndexError\u001b[0m                                Traceback (most recent call last)",
      "Cell \u001b[0;32mIn[40], line 10\u001b[0m\n\u001b[1;32m      8\u001b[0m         os\u001b[38;5;241m.\u001b[39mmkdir(folder)\n\u001b[1;32m      9\u001b[0m     qt_papers_category \u001b[38;5;241m=\u001b[39m getQtPapersCategory(html_links_paper)\n\u001b[0;32m---> 10\u001b[0m     \u001b[43mgetLinksPapers\u001b[49m\u001b[43m(\u001b[49m\u001b[43mqt_papers_category\u001b[49m\u001b[43m,\u001b[49m\u001b[43m \u001b[49m\u001b[43mhtml_links_paper\u001b[49m\u001b[43m,\u001b[49m\u001b[43m \u001b[49m\u001b[43mlista\u001b[49m\u001b[43m[\u001b[49m\u001b[38;5;241;43m0\u001b[39;49m\u001b[43m]\u001b[49m\u001b[43m)\u001b[49m\n\u001b[1;32m     11\u001b[0m \u001b[38;5;28;01melse\u001b[39;00m:\n\u001b[1;32m     12\u001b[0m     \u001b[38;5;28mprint\u001b[39m(\u001b[38;5;124m\"\u001b[39m\u001b[38;5;124mNo links to paper\u001b[39m\u001b[38;5;124m\"\u001b[39m)\n",
      "Cell \u001b[0;32mIn[39], line 28\u001b[0m, in \u001b[0;36mgetLinksPapers\u001b[0;34m(qt, html, ano)\u001b[0m\n\u001b[1;32m     26\u001b[0m paper_page \u001b[38;5;241m=\u001b[39m BeautifulSoup(req_paper_page\u001b[38;5;241m.\u001b[39mcontent, \u001b[38;5;124m'\u001b[39m\u001b[38;5;124mhtml.parser\u001b[39m\u001b[38;5;124m'\u001b[39m)\n\u001b[1;32m     27\u001b[0m frames \u001b[38;5;241m=\u001b[39m paper_page\u001b[38;5;241m.\u001b[39mfind_all(\u001b[38;5;124m\"\u001b[39m\u001b[38;5;124mframe\u001b[39m\u001b[38;5;124m\"\u001b[39m)\n\u001b[0;32m---> 28\u001b[0m req_paper_PDF \u001b[38;5;241m=\u001b[39m requests\u001b[38;5;241m.\u001b[39mget(\u001b[43mframes\u001b[49m\u001b[43m[\u001b[49m\u001b[38;5;241;43m1\u001b[39;49m\u001b[43m]\u001b[49m\u001b[38;5;241m.\u001b[39mget(\u001b[38;5;124m'\u001b[39m\u001b[38;5;124msrc\u001b[39m\u001b[38;5;124m'\u001b[39m))\n\u001b[1;32m     29\u001b[0m \u001b[38;5;28;01mif\u001b[39;00m \u001b[38;5;124m\"\u001b[39m\u001b[38;5;124m@80\u001b[39m\u001b[38;5;124m\"\u001b[39m \u001b[38;5;129;01min\u001b[39;00m url:\n\u001b[1;32m     30\u001b[0m     filename_formatted \u001b[38;5;241m=\u001b[39m \u001b[38;5;28mstr\u001b[39m(ano) \u001b[38;5;241m+\u001b[39m \u001b[38;5;124m\"\u001b[39m\u001b[38;5;124m/\u001b[39m\u001b[38;5;124m\"\u001b[39m \u001b[38;5;241m+\u001b[39m key \u001b[38;5;241m+\u001b[39m \u001b[38;5;124m\"\u001b[39m\u001b[38;5;124m-\u001b[39m\u001b[38;5;124m\"\u001b[39m \u001b[38;5;241m+\u001b[39m url[\u001b[38;5;241m29\u001b[39m:\u001b[38;5;241m39\u001b[39m] \u001b[38;5;241m+\u001b[39m \u001b[38;5;124m\"\u001b[39m\u001b[38;5;124m.pdf\u001b[39m\u001b[38;5;124m\"\u001b[39m\n",
      "\u001b[0;31mIndexError\u001b[0m: list index out of range"
     ]
    }
   ],
   "source": [
    "for lista in main_pages_papers_confs:\n",
    "    print(\"Inicia processamento do ano \", lista[0])\n",
    "    print(\"--------------------------------------------------------------------------------------------------------------------------------------------------------------------------------------\")\n",
    "    html_links_paper = getTagsAfterComments(lista[1])\n",
    "    if html_links_paper:\n",
    "        folder = \"/home/priangel/Documentos/TCC/analysis-sibgrapi-papers/\" + str(lista[0])\n",
    "        if not path.exists(folder):\n",
    "            os.mkdir(folder)\n",
    "        \n",
    "        qt_papers_category = getQtPapersCategory(html_links_paper)\n",
    "        getLinksPapers(qt_papers_category, html_links_paper, lista[0])\n",
    "    else:\n",
    "        print(\"No links to paper\")"
   ]
  },
  {
   "cell_type": "code",
   "execution_count": null,
   "id": "b8cf2c9e-72ad-4652-a56d-4da7e631c387",
   "metadata": {},
   "outputs": [],
   "source": []
  },
  {
   "cell_type": "code",
   "execution_count": null,
   "id": "60a9f2df",
   "metadata": {},
   "outputs": [],
   "source": []
  }
 ],
 "metadata": {
  "kernelspec": {
   "display_name": "Python 3 (ipykernel)",
   "language": "python",
   "name": "python3"
  },
  "language_info": {
   "codemirror_mode": {
    "name": "ipython",
    "version": 3
   },
   "file_extension": ".py",
   "mimetype": "text/x-python",
   "name": "python",
   "nbconvert_exporter": "python",
   "pygments_lexer": "ipython3",
   "version": "3.10.12"
  }
 },
 "nbformat": 4,
 "nbformat_minor": 5
}
